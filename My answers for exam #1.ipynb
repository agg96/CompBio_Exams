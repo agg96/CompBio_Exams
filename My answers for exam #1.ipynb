{
 "cells": [
  {
   "cell_type": "markdown",
   "metadata": {},
   "source": []
  },
  {
   "cell_type": "markdown",
   "metadata": {},
   "source": [
    "PROBLEM 2\n",
    "Create a directory listing command that shows:\n",
    "#the ownership of the file\n",
    "#it's file-size, in Megabytes (i.e. human readable)\n",
    "#in words (in the text box), describe the permissions on that file (read/write/execute) for users, groups, and \"anyone\""
   ]
  },
  {
   "cell_type": "markdown",
   "metadata": {},
   "source": []
  },
  {
   "cell_type": "code",
   "execution_count": null,
   "metadata": {
    "scrolled": true
   },
   "outputs": [],
   "source": [
    "echo \"the ownership of the file\"\n",
    "\n",
    "ls -l Locus_Germplasm_Phenotype_20130122.txt \n",
    "#\"Columns 2 and 3 tell us the owner and the group owner. In this case osboxes and osboxes in both cases\"\n",
    "\n",
    "echo \"it's file-size, in Megabytes (i.e. human readable)\"\n",
    "ls -lh Locus_Germplasm_Phenotype_20130122.txt\n",
    "\n",
    "echo \"in words (in the text box), describe the permissions on that file (read/write/execute) for users, groups, and anyone\"\n",
    "#Permissions are in the first column and tell us what users, groups and anyone can do with the file. In this case, this file is not a directory\n",
    "#read/write for the user, read/write for the groups, and only read for anyone."
   ]
  },
  {
   "cell_type": "markdown",
   "metadata": {},
   "source": []
  },
  {
   "cell_type": "markdown",
   "metadata": {},
   "source": []
  },
  {
   "cell_type": "markdown",
   "metadata": {},
   "source": [
    "Problem 3\n",
    "\n",
    "Create a command that outputs only the \"header\" line"
   ]
  },
  {
   "cell_type": "code",
   "execution_count": 7,
   "metadata": {},
   "outputs": [
    {
     "name": "stdout",
     "output_type": "stream",
     "text": [
      "Locus_name)\tGermplasm_name\tphenotype\tpubmed_id\n"
     ]
    }
   ],
   "source": [
    "head -1 Locus_Germplasm_Phenotype_20130122.txt\n"
   ]
  },
  {
   "cell_type": "markdown",
   "metadata": {},
   "source": []
  },
  {
   "cell_type": "markdown",
   "metadata": {},
   "source": []
  },
  {
   "cell_type": "markdown",
   "metadata": {},
   "source": [
    "Problem 4\n",
    "\n",
    "Create a command that outputs the total number of lines in the file"
   ]
  },
  {
   "cell_type": "code",
   "execution_count": null,
   "metadata": {},
   "outputs": [],
   "source": [
    "grep -E -o '^[A-Z]'  | wc -l Locus_Germplasm_Phenotype_20130122.txt\n"
   ]
  },
  {
   "cell_type": "markdown",
   "metadata": {},
   "source": []
  },
  {
   "cell_type": "markdown",
   "metadata": {},
   "source": []
  },
  {
   "cell_type": "markdown",
   "metadata": {},
   "source": [
    "Problem 5\n",
    "#Create a command that writes ONLY the data lines (i.e. excludes the header!) to a new file called \"Data_Only.csv\"\n",
    "#prove that your output file has the expected number of lines\n"
   ]
  },
  {
   "cell_type": "code",
   "execution_count": null,
   "metadata": {},
   "outputs": [],
   "source": [
    "grep -E -i'^[A-Z]T[1-5]G[0-9]{5}' Locus_Germplasm_Phenotype_20130122.txt > Data_Only.csv\n",
    "grep -E '^[A-Z]' | wc -l Data_Only.csv"
   ]
  },
  {
   "cell_type": "markdown",
   "metadata": {},
   "source": []
  },
  {
   "cell_type": "markdown",
   "metadata": {},
   "source": []
  },
  {
   "cell_type": "markdown",
   "metadata": {},
   "source": [
    "Problem 6\n",
    "\n",
    "Create a command that shows all of the lines that have a phenotype including the word \"root"
   ]
  },
  {
   "cell_type": "code",
   "execution_count": null,
   "metadata": {},
   "outputs": [],
   "source": [
    "grep -in 'root'Locus_Germplasm_Phenotype_20130122.txt"
   ]
  },
  {
   "cell_type": "markdown",
   "metadata": {},
   "source": []
  },
  {
   "cell_type": "markdown",
   "metadata": {},
   "source": []
  },
  {
   "cell_type": "markdown",
   "metadata": {},
   "source": [
    "Problem 7\n",
    "\n",
    "Create a command that writes the AGI Locus Code for every line that has a phenotype including the word \"root\" to a file called:\n",
    "    \"Root-associated-Loci.txt\"\n"
   ]
  },
  {
   "cell_type": "code",
   "execution_count": null,
   "metadata": {},
   "outputs": [],
   "source": [
    "grep -in 'root' | grep -E -io '^[A-Z]T[1-5]G[0-9]{5}' Locus_Germplasm_Phenotype_20130122.txt > Root-associated-Loci.txt"
   ]
  },
  {
   "cell_type": "markdown",
   "metadata": {},
   "source": []
  },
  {
   "cell_type": "markdown",
   "metadata": {},
   "source": []
  },
  {
   "cell_type": "markdown",
   "metadata": {},
   "source": [
    "Problem 8\n",
    "\n",
    "Create a command that writes the PubMed ID for every line that has a phenotype including the word \"root\" to a file called:\n",
    "    \"Root-associated-Publications.txt\"\n"
   ]
  },
  {
   "cell_type": "code",
   "execution_count": null,
   "metadata": {},
   "outputs": [],
   "source": [
    "grep -in 'root' | grep -E -o '\\s[0-9]+\\s' Locus_Germplasm_Phenotype_20130122.txt > Root-associated-Publications.txt"
   ]
  },
  {
   "cell_type": "markdown",
   "metadata": {},
   "source": []
  },
  {
   "cell_type": "markdown",
   "metadata": {},
   "source": []
  },
  {
   "cell_type": "markdown",
   "metadata": {},
   "source": [
    "Problem 9\n",
    "\n",
    "Control experiment: You would hypothesize that genes associated with roots should be found on all chromosomes. Find a way (one or more commands) to test this hypothesis. In this dataset, is the hypothesis true?\n"
   ]
  },
  {
   "cell_type": "code",
   "execution_count": null,
   "metadata": {},
   "outputs": [],
   "source": [
    "grep -ino  'T1G' Root-associated-Loci.txt > Chromosome1.txt\n",
    "grep -ino  'T2G' Root-associated-Loci.txt > Chromosome2.txt\n",
    "grep -ino  'T3G' Root-associated-Loci.txt > Chromosome3.txt\n",
    "grep -ino  'T4G' Root-associated-Loci.txt > Chromosome4.txt\n",
    "grep -ino  'T5G' Root-associated-Loci.txt > Chromosome5.txt\n",
    "wc -l Chromosome1.txt\n",
    "wc -l Chromosome2.txt\n",
    "wc -l Chromosome3.txt\n",
    "wc -l Chromosome4.txt\n",
    "wc -l Chromosome5.txt\n",
    "echo 'The hypthesis will be true if there at least one or more words in each Chromosome.txt'"
   ]
  },
  {
   "cell_type": "markdown",
   "metadata": {},
   "source": []
  },
  {
   "cell_type": "markdown",
   "metadata": {},
   "source": []
  },
  {
   "cell_type": "markdown",
   "metadata": {},
   "source": [
    "Problem 10\n",
    "\n",
    "This dataset is from the most popular Arabidopsis database on earth! I did not change it! What does your answer to Problem 9 tell you? Can you explain it? What do you learn from this control that you should remember for the rest of your life?!\n"
   ]
  },
  {
   "cell_type": "code",
   "execution_count": null,
   "metadata": {},
   "outputs": [],
   "source": []
  },
  {
   "cell_type": "markdown",
   "metadata": {},
   "source": [
    "Remember Mark that you answer me this question. \n",
    "All genes associated with roots are located in one chromosome. This means that the functions and the answers in roots are dependent on the expression of some regions of one only chromosome.  This could be explained in the case that all these functions have evolved from some genes located in this chromosome and with the time duplication have occured and also it allows the control of these genes in this chromosome. The lost of this chromosome would be crucial for the survival of the plant.\n",
    "\n",
    "I learnt how to search inside a TAIR file, which it is very useful and will be of great importance in my future career.\n"
   ]
  },
  {
   "cell_type": "markdown",
   "metadata": {},
   "source": []
  },
  {
   "cell_type": "markdown",
   "metadata": {},
   "source": []
  },
  {
   "cell_type": "markdown",
   "metadata": {},
   "source": [
    "Problem 11\n",
    "\n",
    "push your answers to GitHub and give me your GitHub username before you leave the class. I will clone your repositories and grade your answers.\n"
   ]
  }
 ],
 "metadata": {
  "kernelspec": {
   "display_name": "Bash",
   "language": "bash",
   "name": "bash"
  },
  "language_info": {
   "codemirror_mode": "shell",
   "file_extension": ".sh",
   "mimetype": "text/x-sh",
   "name": "bash"
  }
 },
 "nbformat": 4,
 "nbformat_minor": 2
}
